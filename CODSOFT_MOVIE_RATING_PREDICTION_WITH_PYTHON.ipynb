{
  "nbformat": 4,
  "nbformat_minor": 0,
  "metadata": {
    "colab": {
      "private_outputs": true,
      "provenance": [],
      "authorship_tag": "ABX9TyOt7YsHC6EShQetjSC/VjwH",
      "include_colab_link": true
    },
    "kernelspec": {
      "name": "python3",
      "display_name": "Python 3"
    },
    "language_info": {
      "name": "python"
    }
  },
  "cells": [
    {
      "cell_type": "markdown",
      "metadata": {
        "id": "view-in-github",
        "colab_type": "text"
      },
      "source": [
        "<a href=\"https://colab.research.google.com/github/MansiKaushik123/CODSOFT--MOVIE-RATING-PREDICTION-WITH-PYTHON/blob/main/CODSOFT_MOVIE_RATING_PREDICTION_WITH_PYTHON.ipynb\" target=\"_parent\"><img src=\"https://colab.research.google.com/assets/colab-badge.svg\" alt=\"Open In Colab\"/></a>"
      ]
    },
    {
      "cell_type": "markdown",
      "source": [
        "# **Project Name**    - MOVIE RATING PREDICTION WITH PYTHON\n"
      ],
      "metadata": {
        "id": "vncDsAP0Gaoa"
      }
    },
    {
      "cell_type": "markdown",
      "source": [
        "# **codsoft data science internship**\n",
        "\n",
        "**Name** : Yogesh Baghel\n",
        "\n",
        "**Batch** :  JULY BATCH A61\n",
        "\n",
        "**Domain** : Data science"
      ],
      "metadata": {
        "id": "5VqogQkan1WX"
      }
    },
    {
      "cell_type": "code",
      "source": [],
      "metadata": {
        "id": "YopVx5CrnaZ_"
      },
      "execution_count": null,
      "outputs": []
    }
  ]
}